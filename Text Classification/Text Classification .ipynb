{
 "cells": [
  {
   "cell_type": "markdown",
   "metadata": {},
   "source": [
    "## Unit 4 Capstone\n",
    "\n",
    "For this project, I will use a NTLK corpus which contains a collection of inaugural speeches given by presidents of the US from 1789 to 2009. I will be clustering these speeches into sentences in order to create features and classify the text using supervised and unsupervised techniques that I learned from Unit 4."
   ]
  },
  {
   "cell_type": "code",
   "execution_count": 46,
   "metadata": {},
   "outputs": [],
   "source": [
    "import numpy as np\n",
    "import pandas as pd\n",
    "import scipy\n",
    "import sklearn\n",
    "import matplotlib.pyplot as plt\n",
    "import seaborn as sns\n",
    "import re\n",
    "import nltk\n",
    "import spacy\n",
    "from nltk.corpus import stopwords, gutenberg, inaugural\n",
    "from collections import Counter\n",
    "from sklearn.model_selection import cross_val_score\n",
    "from sklearn.metrics import confusion_matrix\n",
    "from sklearn import ensemble\n",
    "from sklearn.ensemble import RandomForestClassifier, GradientBoostingRegressor                          \n",
    "from sklearn.linear_model import LogisticRegression \n",
    "from sklearn.svm import SVC \n",
    "from sklearn.cluster import KMeans\n",
    "%matplotlib inline"
   ]
  },
  {
   "cell_type": "code",
   "execution_count": 17,
   "metadata": {
    "scrolled": true
   },
   "outputs": [
    {
     "name": "stderr",
     "output_type": "stream",
     "text": [
      "[nltk_data] Downloading package inaugural to\n",
      "[nltk_data]     C:\\Users\\edgor\\AppData\\Roaming\\nltk_data...\n",
      "[nltk_data]   Package inaugural is already up-to-date!\n",
      "[nltk_data] Downloading package wordnet to\n",
      "[nltk_data]     C:\\Users\\edgor\\AppData\\Roaming\\nltk_data...\n",
      "[nltk_data]   Package wordnet is already up-to-date!\n"
     ]
    },
    {
     "data": {
      "text/plain": [
       "['1789-Washington.txt',\n",
       " '1793-Washington.txt',\n",
       " '1797-Adams.txt',\n",
       " '1801-Jefferson.txt',\n",
       " '1805-Jefferson.txt',\n",
       " '1809-Madison.txt',\n",
       " '1813-Madison.txt',\n",
       " '1817-Monroe.txt',\n",
       " '1821-Monroe.txt',\n",
       " '1825-Adams.txt',\n",
       " '1829-Jackson.txt',\n",
       " '1833-Jackson.txt',\n",
       " '1837-VanBuren.txt',\n",
       " '1841-Harrison.txt',\n",
       " '1845-Polk.txt',\n",
       " '1849-Taylor.txt',\n",
       " '1853-Pierce.txt',\n",
       " '1857-Buchanan.txt',\n",
       " '1861-Lincoln.txt',\n",
       " '1865-Lincoln.txt',\n",
       " '1869-Grant.txt',\n",
       " '1873-Grant.txt',\n",
       " '1877-Hayes.txt',\n",
       " '1881-Garfield.txt',\n",
       " '1885-Cleveland.txt',\n",
       " '1889-Harrison.txt',\n",
       " '1893-Cleveland.txt',\n",
       " '1897-McKinley.txt',\n",
       " '1901-McKinley.txt',\n",
       " '1905-Roosevelt.txt',\n",
       " '1909-Taft.txt',\n",
       " '1913-Wilson.txt',\n",
       " '1917-Wilson.txt',\n",
       " '1921-Harding.txt',\n",
       " '1925-Coolidge.txt',\n",
       " '1929-Hoover.txt',\n",
       " '1933-Roosevelt.txt',\n",
       " '1937-Roosevelt.txt',\n",
       " '1941-Roosevelt.txt',\n",
       " '1945-Roosevelt.txt',\n",
       " '1949-Truman.txt',\n",
       " '1953-Eisenhower.txt',\n",
       " '1957-Eisenhower.txt',\n",
       " '1961-Kennedy.txt',\n",
       " '1965-Johnson.txt',\n",
       " '1969-Nixon.txt',\n",
       " '1973-Nixon.txt',\n",
       " '1977-Carter.txt',\n",
       " '1981-Reagan.txt',\n",
       " '1985-Reagan.txt',\n",
       " '1989-Bush.txt',\n",
       " '1993-Clinton.txt',\n",
       " '1997-Clinton.txt',\n",
       " '2001-Bush.txt',\n",
       " '2005-Bush.txt',\n",
       " '2009-Obama.txt']"
      ]
     },
     "execution_count": 17,
     "metadata": {},
     "output_type": "execute_result"
    }
   ],
   "source": [
    "nltk.download('inaugural')\n",
    "nltk.download('wordnet')\n",
    "inaugural.fileids()"
   ]
  },
  {
   "cell_type": "markdown",
   "metadata": {},
   "source": [
    "## Text Processing\n",
    "\n",
    "Here I will create a list to seprate the text files into sentences. I will also do some text cleaning and removes characters and any numeric values."
   ]
  },
  {
   "cell_type": "code",
   "execution_count": 18,
   "metadata": {},
   "outputs": [],
   "source": [
    "file_ids = inaugural.fileids()\n",
    "\n",
    "labels =[]\n",
    "\n",
    "for file in file_ids:\n",
    "    \n",
    "    president = re.sub(\"[^a-zA-Z]\", '', file[5:-4])\n",
    "    labels.append([file, president])\n",
    "    \n",
    "    \n",
    "sent_list =[]\n",
    "president_list = []\n",
    "\n",
    "for i in range(len(labels)):\n",
    "    sents = inaugural.sents(labels[i][0]) #get sentences from document\n",
    "    joined_sents = [(' '.join(sent), labels[i][1]) for sent in sents]\n",
    "    \n",
    "    # write out to individual lists for easier text processing\n",
    "    for i in range(len(joined_sents)): \n",
    "        sent_list.append(joined_sents[i][0]) \n",
    "        president_list.append(joined_sents[i][1])  "
   ]
  },
  {
   "cell_type": "code",
   "execution_count": 19,
   "metadata": {},
   "outputs": [
    {
     "data": {
      "text/plain": [
       "['Fellow   Citizens of the Senate and of the House of Representatives  ',\n",
       " 'Among the vicissitudes incident to life no event could have filled me with greater anxieties than that of which the notification was transmitted by your order   and received on the   th day of the present month  ',\n",
       " 'On the one hand   I was summoned by my Country   whose voice I can never hear but with veneration and love   from a retreat which I had chosen with the fondest predilection   and   in my flattering hopes   with an immutable decision   as the asylum of my declining years    a retreat which was rendered every day more necessary as well as more dear to me by the addition of habit to inclination   and of frequent interruptions in my health to the gradual waste committed on it by time  ',\n",
       " 'On the other hand   the magnitude and difficulty of the trust to which the voice of my country called me   being sufficient to awaken in the wisest and most experienced of her citizens a distrustful scrutiny into his qualifications   could not but overwhelm with despondence one who   inheriting inferior endowments from nature and unpracticed in the duties of civil administration   ought to be peculiarly conscious of his own deficiencies  ']"
      ]
     },
     "execution_count": 19,
     "metadata": {},
     "output_type": "execute_result"
    }
   ],
   "source": [
    "sent_list_clean = []\n",
    "\n",
    "\n",
    "for sent in sent_list:\n",
    "    sent = re.sub(\"[^a-zA-Z]\", ' ', sent) \n",
    "    if sent == sent.upper():              \n",
    "        sent = \"\"                         \n",
    "    sent_list_clean.append(sent)\n",
    "sent_list_clean[:4]"
   ]
  },
  {
   "cell_type": "code",
   "execution_count": 20,
   "metadata": {},
   "outputs": [],
   "source": [
    "from nltk.tokenize import word_tokenize\n",
    "from nltk.stem import WordNetLemmatizer\n",
    "\n",
    "lemmatizer = WordNetLemmatizer()\n",
    "\n",
    "lemma_sents = []\n",
    "\n",
    "for sent in sent_list_clean:\n",
    "    words = word_tokenize(sent)\n",
    "    word_lemma = [lemmatizer.lemmatize(word) for word in words]\n",
    "    sent_lemma = ' '.join(word_lemma)\n",
    "    lemma_sents.append(sent_lemma)"
   ]
  },
  {
   "cell_type": "code",
   "execution_count": 51,
   "metadata": {
    "scrolled": false
   },
   "outputs": [
    {
     "data": {
      "text/html": [
       "<div>\n",
       "<style scoped>\n",
       "    .dataframe tbody tr th:only-of-type {\n",
       "        vertical-align: middle;\n",
       "    }\n",
       "\n",
       "    .dataframe tbody tr th {\n",
       "        vertical-align: top;\n",
       "    }\n",
       "\n",
       "    .dataframe thead th {\n",
       "        text-align: right;\n",
       "    }\n",
       "</style>\n",
       "<table border=\"1\" class=\"dataframe\">\n",
       "  <thead>\n",
       "    <tr style=\"text-align: right;\">\n",
       "      <th></th>\n",
       "      <th>sent</th>\n",
       "      <th>president</th>\n",
       "    </tr>\n",
       "  </thead>\n",
       "  <tbody>\n",
       "    <tr>\n",
       "      <th>0</th>\n",
       "      <td>Fellow Citizens of the Senate and of the House...</td>\n",
       "      <td>Washington</td>\n",
       "    </tr>\n",
       "    <tr>\n",
       "      <th>1</th>\n",
       "      <td>Among the vicissitude incident to life no even...</td>\n",
       "      <td>Washington</td>\n",
       "    </tr>\n",
       "    <tr>\n",
       "      <th>2</th>\n",
       "      <td>On the one hand I wa summoned by my Country wh...</td>\n",
       "      <td>Washington</td>\n",
       "    </tr>\n",
       "    <tr>\n",
       "      <th>3</th>\n",
       "      <td>On the other hand the magnitude and difficulty...</td>\n",
       "      <td>Washington</td>\n",
       "    </tr>\n",
       "    <tr>\n",
       "      <th>4</th>\n",
       "      <td>In this conflict of emotion all I dare aver is...</td>\n",
       "      <td>Washington</td>\n",
       "    </tr>\n",
       "  </tbody>\n",
       "</table>\n",
       "</div>"
      ],
      "text/plain": [
       "                                                sent   president\n",
       "0  Fellow Citizens of the Senate and of the House...  Washington\n",
       "1  Among the vicissitude incident to life no even...  Washington\n",
       "2  On the one hand I wa summoned by my Country wh...  Washington\n",
       "3  On the other hand the magnitude and difficulty...  Washington\n",
       "4  In this conflict of emotion all I dare aver is...  Washington"
      ]
     },
     "execution_count": 51,
     "metadata": {},
     "output_type": "execute_result"
    }
   ],
   "source": [
    "#dataframe\n",
    "df = pd.DataFrame()\n",
    "df['sent'] = lemma_sents\n",
    "df['president'] = president_list\n",
    "\n",
    "df = df[df.sent!=\"\"]\n",
    "df.head()"
   ]
  },
  {
   "cell_type": "code",
   "execution_count": 52,
   "metadata": {},
   "outputs": [
    {
     "data": {
      "text/html": [
       "<div>\n",
       "<style scoped>\n",
       "    .dataframe tbody tr th:only-of-type {\n",
       "        vertical-align: middle;\n",
       "    }\n",
       "\n",
       "    .dataframe tbody tr th {\n",
       "        vertical-align: top;\n",
       "    }\n",
       "\n",
       "    .dataframe thead th {\n",
       "        text-align: right;\n",
       "    }\n",
       "</style>\n",
       "<table border=\"1\" class=\"dataframe\">\n",
       "  <thead>\n",
       "    <tr style=\"text-align: right;\">\n",
       "      <th></th>\n",
       "      <th>sent</th>\n",
       "    </tr>\n",
       "    <tr>\n",
       "      <th>president</th>\n",
       "      <th></th>\n",
       "    </tr>\n",
       "  </thead>\n",
       "  <tbody>\n",
       "    <tr>\n",
       "      <th>Adams</th>\n",
       "      <td>0.022802</td>\n",
       "    </tr>\n",
       "    <tr>\n",
       "      <th>Buchanan</th>\n",
       "      <td>0.018283</td>\n",
       "    </tr>\n",
       "    <tr>\n",
       "      <th>Bush</th>\n",
       "      <td>0.069228</td>\n",
       "    </tr>\n",
       "    <tr>\n",
       "      <th>Carter</th>\n",
       "      <td>0.010887</td>\n",
       "    </tr>\n",
       "    <tr>\n",
       "      <th>Cleveland</th>\n",
       "      <td>0.020953</td>\n",
       "    </tr>\n",
       "    <tr>\n",
       "      <th>Clinton</th>\n",
       "      <td>0.039647</td>\n",
       "    </tr>\n",
       "    <tr>\n",
       "      <th>Coolidge</th>\n",
       "      <td>0.040468</td>\n",
       "    </tr>\n",
       "    <tr>\n",
       "      <th>Eisenhower</th>\n",
       "      <td>0.044166</td>\n",
       "    </tr>\n",
       "    <tr>\n",
       "      <th>Garfield</th>\n",
       "      <td>0.023007</td>\n",
       "    </tr>\n",
       "    <tr>\n",
       "      <th>Grant</th>\n",
       "      <td>0.017461</td>\n",
       "    </tr>\n",
       "    <tr>\n",
       "      <th>Harding</th>\n",
       "      <td>0.030608</td>\n",
       "    </tr>\n",
       "    <tr>\n",
       "      <th>Harrison</th>\n",
       "      <td>0.075390</td>\n",
       "    </tr>\n",
       "    <tr>\n",
       "      <th>Hayes</th>\n",
       "      <td>0.012120</td>\n",
       "    </tr>\n",
       "    <tr>\n",
       "      <th>Hoover</th>\n",
       "      <td>0.032457</td>\n",
       "    </tr>\n",
       "    <tr>\n",
       "      <th>Jackson</th>\n",
       "      <td>0.011298</td>\n",
       "    </tr>\n",
       "    <tr>\n",
       "      <th>Jefferson</th>\n",
       "      <td>0.017872</td>\n",
       "    </tr>\n",
       "    <tr>\n",
       "      <th>Johnson</th>\n",
       "      <td>0.019310</td>\n",
       "    </tr>\n",
       "    <tr>\n",
       "      <th>Kennedy</th>\n",
       "      <td>0.010682</td>\n",
       "    </tr>\n",
       "    <tr>\n",
       "      <th>Lincoln</th>\n",
       "      <td>0.033895</td>\n",
       "    </tr>\n",
       "    <tr>\n",
       "      <th>Madison</th>\n",
       "      <td>0.011093</td>\n",
       "    </tr>\n",
       "    <tr>\n",
       "      <th>McKinley</th>\n",
       "      <td>0.047247</td>\n",
       "    </tr>\n",
       "    <tr>\n",
       "      <th>Monroe</th>\n",
       "      <td>0.051561</td>\n",
       "    </tr>\n",
       "    <tr>\n",
       "      <th>Nixon</th>\n",
       "      <td>0.035949</td>\n",
       "    </tr>\n",
       "    <tr>\n",
       "      <th>Obama</th>\n",
       "      <td>0.023007</td>\n",
       "    </tr>\n",
       "    <tr>\n",
       "      <th>Pierce</th>\n",
       "      <td>0.021364</td>\n",
       "    </tr>\n",
       "    <tr>\n",
       "      <th>Polk</th>\n",
       "      <td>0.031430</td>\n",
       "    </tr>\n",
       "    <tr>\n",
       "      <th>Reagan</th>\n",
       "      <td>0.051972</td>\n",
       "    </tr>\n",
       "    <tr>\n",
       "      <th>Roosevelt</th>\n",
       "      <td>0.063270</td>\n",
       "    </tr>\n",
       "    <tr>\n",
       "      <th>Taft</th>\n",
       "      <td>0.032662</td>\n",
       "    </tr>\n",
       "    <tr>\n",
       "      <th>Taylor</th>\n",
       "      <td>0.004519</td>\n",
       "    </tr>\n",
       "    <tr>\n",
       "      <th>Truman</th>\n",
       "      <td>0.023829</td>\n",
       "    </tr>\n",
       "    <tr>\n",
       "      <th>VanBuren</th>\n",
       "      <td>0.019515</td>\n",
       "    </tr>\n",
       "    <tr>\n",
       "      <th>Washington</th>\n",
       "      <td>0.005752</td>\n",
       "    </tr>\n",
       "    <tr>\n",
       "      <th>Wilson</th>\n",
       "      <td>0.026294</td>\n",
       "    </tr>\n",
       "  </tbody>\n",
       "</table>\n",
       "</div>"
      ],
      "text/plain": [
       "                sent\n",
       "president           \n",
       "Adams       0.022802\n",
       "Buchanan    0.018283\n",
       "Bush        0.069228\n",
       "Carter      0.010887\n",
       "Cleveland   0.020953\n",
       "Clinton     0.039647\n",
       "Coolidge    0.040468\n",
       "Eisenhower  0.044166\n",
       "Garfield    0.023007\n",
       "Grant       0.017461\n",
       "Harding     0.030608\n",
       "Harrison    0.075390\n",
       "Hayes       0.012120\n",
       "Hoover      0.032457\n",
       "Jackson     0.011298\n",
       "Jefferson   0.017872\n",
       "Johnson     0.019310\n",
       "Kennedy     0.010682\n",
       "Lincoln     0.033895\n",
       "Madison     0.011093\n",
       "McKinley    0.047247\n",
       "Monroe      0.051561\n",
       "Nixon       0.035949\n",
       "Obama       0.023007\n",
       "Pierce      0.021364\n",
       "Polk        0.031430\n",
       "Reagan      0.051972\n",
       "Roosevelt   0.063270\n",
       "Taft        0.032662\n",
       "Taylor      0.004519\n",
       "Truman      0.023829\n",
       "VanBuren    0.019515\n",
       "Washington  0.005752\n",
       "Wilson      0.026294"
      ]
     },
     "execution_count": 52,
     "metadata": {},
     "output_type": "execute_result"
    }
   ],
   "source": [
    "df.groupby('president').count()/df['sent'].count()"
   ]
  },
  {
   "cell_type": "markdown",
   "metadata": {},
   "source": [
    "## Unsupervised Features\n",
    "\n",
    "To create the featues, I will be using TF-IDF and LSA."
   ]
  },
  {
   "cell_type": "code",
   "execution_count": 22,
   "metadata": {},
   "outputs": [
    {
     "name": "stdout",
     "output_type": "stream",
     "text": [
      "(3651, 2)\n",
      "(1217, 2)\n"
     ]
    }
   ],
   "source": [
    "from sklearn.model_selection import train_test_split\n",
    "\n",
    "df_train, df_test = train_test_split(df, stratify = df['president'], test_size = 0.25, random_state = 42)\n",
    "\n",
    "print(df_train.shape)\n",
    "print(df_test.shape)"
   ]
  },
  {
   "cell_type": "markdown",
   "metadata": {},
   "source": [
    "## Term Frequency-Inverse Document Frequency (TF-IDF)"
   ]
  },
  {
   "cell_type": "code",
   "execution_count": 23,
   "metadata": {},
   "outputs": [
    {
     "name": "stdout",
     "output_type": "stream",
     "text": [
      "(3651, 3833)\n",
      "(1217, 3833)\n"
     ]
    }
   ],
   "source": [
    "from sklearn.feature_extraction.text import TfidfVectorizer\n",
    "\n",
    "vectorizer = TfidfVectorizer(stop_words='english', #filter out stopwords\n",
    "                             lowercase=True,       #convert all to lowercase\n",
    "                             min_df=2,             #use words appearing at least twice in doc\n",
    "                             max_df=0.5,           #drop words that occur in more than half of doc\n",
    "                             use_idf=True,\n",
    "                             smooth_idf=True,\n",
    "                             norm='l2')\n",
    "\n",
    "#data to vectorize\n",
    "X_train = df_train['sent']\n",
    "X_test = df_test['sent']\n",
    "\n",
    "#vectorize training data\n",
    "X_train_tfidf = vectorizer.fit_transform(X_train)\n",
    "X_test_tfidf = vectorizer.transform(X_test)\n",
    "\n",
    "print(X_train_tfidf.shape)\n",
    "print(X_test_tfidf.shape)"
   ]
  },
  {
   "cell_type": "code",
   "execution_count": 24,
   "metadata": {},
   "outputs": [
    {
     "name": "stdout",
     "output_type": "stream",
     "text": [
      "Train:\n",
      "             word  avg_weight\n",
      "1675          ha    0.021161\n",
      "2490      people    0.019708\n",
      "1633  government    0.019441\n",
      "2302      nation    0.017204\n",
      "3805       world    0.014010\n",
      "821      country    0.012516\n",
      "1650       great    0.012405\n",
      "3128       shall    0.011734\n",
      "3481        time    0.011678\n",
      "2575       power    0.011608\n",
      "\n",
      "Test:\n",
      "             word  avg_weight\n",
      "1675          ha    0.021173\n",
      "1633  government    0.020462\n",
      "2490      people    0.019677\n",
      "2302      nation    0.018214\n",
      "3805       world    0.014305\n",
      "2055         law    0.013720\n",
      "561      citizen    0.012848\n",
      "2333         new    0.012820\n",
      "173      america    0.012335\n",
      "821      country    0.011552\n"
     ]
    }
   ],
   "source": [
    "weights = np.asarray(X_train_tfidf.mean(axis=0)).ravel().tolist()\n",
    "weights_df = pd.DataFrame({'word':vectorizer.get_feature_names(), 'avg_weight': weights})\n",
    "print('Train:\\n',weights_df.sort_values(by = 'avg_weight', ascending =False).head(10))\n",
    "\n",
    "weights = np.asarray(X_test_tfidf.mean(axis=0)).ravel().tolist()\n",
    "weights_df = pd.DataFrame({'word': vectorizer.get_feature_names(), 'avg_weight': weights})\n",
    "print(\"\\nTest:\\n\", weights_df.sort_values(by='avg_weight', ascending=False).head(10))"
   ]
  },
  {
   "cell_type": "markdown",
   "metadata": {},
   "source": [
    "## LSA using Singular Value Decomposition (SVD)"
   ]
  },
  {
   "cell_type": "code",
   "execution_count": 25,
   "metadata": {},
   "outputs": [
    {
     "name": "stdout",
     "output_type": "stream",
     "text": [
      "Percent variance captured by components: 41.96346350050322\n",
      "Component 0:\n",
      "sent\n",
      "On this subject it might become me better to be silent or to speak with diffidence but a something may be expected the occasion I hope will be admitted a an apology if I venture to say that if a preference upon principle of a free republican government formed upon long and serious reflection after a diligent and impartial inquiry after truth if an attachment to the Constitution of the United States and a conscientious determination to support it until it shall be altered by the judgment and wish of the people expressed in the mode prescribed in it if a respectful attention to the constitution of the individual States and a constant caution and delicacy toward the State government if an equal and impartial regard to the right interest honor and happiness of all the States in the Union without preference or regard to a northern or southern an eastern or western position their various political opinion on unessential point or their personal attachment if a love of virtuous men of all party and denomination if a love of science and letter and a wish to patronize every rational effort to encourage school college university academy and every institution for propagating knowledge virtue and religion among all class of the people not only for their benign influence on the happiness of life in all it stage and class and of society in all it form but a the only mean of preserving our Constitution from it natural enemy the spirit of sophistry the spirit of party the spirit of intrigue the profligacy of corruption and the pestilence of foreign influence which is the angel of destruction to elective government if a love of equal law of justice and humanity in the interior administration if an inclination to improve agriculture commerce and manufacturer for necessity convenience and defense if a spirit of equity and humanity toward the aboriginal nation of America and a disposition to meliorate their condition by inclining them to be more friendly to u and our citizen to be more friendly to them if an inflexible determination to maintain peace and inviolable faith with all nation and that system of neutrality and impartiality among the belligerent power of Europe which ha been adopted by this Government and so solemnly sanctioned by both Houses of Congress and applauded by the legislature of the States and the public opinion until it shall be otherwise ordained by Congress if a personal esteem for the French nation formed in a residence of seven year chiefly among them and a sincere desire to preserve the friendship which ha been so much for the honor and interest of both nation if while the conscious honor and integrity of the people of America and the internal sentiment of their own power and energy must be preserved an earnest endeavor to investigate every just cause and remove every colorable pretense of complaint if an intention to pursue by amicable negotiation a reparation for the injury that have been committed on the commerce of our fellow citizen by whatever nation and if success can not be obtained to lay the fact before the Legislature that they may consider what further measure the honor and interest of the Government and it constituent demand if a resolution to do justice a far a may depend upon me at all time and to all nation and maintain peace friendship and benevolence with all the world if an unshaken confidence in the honor spirit and resource of the American people on which I have so often hazarded my all and never been deceived if elevated idea of the high destiny of this country and of my own duty toward it founded on a knowledge of the moral principle and intellectual improvement of the people deeply engraven on my mind in early life and not obscured but exalted by experience and age and with humble reverence I feel it to be my duty to add if a veneration for the religion of a people who profess and call themselves Christians and a fixed resolution to consider a decent respect for Christianity among the best recommendation for the public service can enable me in any degree to comply with your wish it shall be my strenuous endeavor that this sagacious injunction of the two Houses shall not be without effect    0.618284\n",
      "What ha to be done ha to be done by government and people together or it will not be done at all                                                                                                                                                                                                                                                                                                                                                                                                                                                                                                                                                                                                                                                                                                                                                                                                                                                                                                                                                                                                                                                                                                                                                                                                                                                                                                                                                                                                                                                                                                                                                                                                                                                                                                                                                                                                                                                                                                                                                                                                                                                                                                                                                                                                                                                                                                                                                                                                                                                                                                                                                                                                                                                                                                                                                                                                                                                                                                                                                                                                                                                                                                                                                                                                                                                                                                                                                                                                                                                                                                                                                                                                                                                                                                                                                                                                                                                                                                                                                                                                                                                                                                                                                                                                                                                                     0.489507\n",
      "Our Government ha no power except that granted it by the people                                                                                                                                                                                                                                                                                                                                                                                                                                                                                                                                                                                                                                                                                                                                                                                                                                                                                                                                                                                                                                                                                                                                                                                                                                                                                                                                                                                                                                                                                                                                                                                                                                                                                                                                                                                                                                                                                                                                                                                                                                                                                                                                                                                                                                                                                                                                                                                                                                                                                                                                                                                                                                                                                                                                                                                                                                                                                                                                                                                                                                                                                                                                                                                                                                                                                                                                                                                                                                                                                                                                                                                                                                                                                                                                                                                                                                                                                                                                                                                                                                                                                                                                                                                                                                                                                                      0.470311\n",
      "Such is the amiable and interesting system of government and such are some of the abuse to which it may be exposed which the people of America have exhibited to the admiration and anxiety of the wise and virtuous of all nation for eight year under the administration of a citizen who by a long course of great action regulated by prudence justice temperance and fortitude conducting a people inspired with the same virtue and animated with the same ardent patriotism and love of liberty to independence and peace to increasing wealth and unexampled prosperity ha merited the gratitude of his fellow citizen commanded the highest praise of foreign nation and secured immortal glory with posterity                                                                                                                                                                                                                                                                                                                                                                                                                                                                                                                                                                                                                                                                                                                                                                                                                                                                                                                                                                                                                                                                                                                                                                                                                                                                                                                                                                                                                                                                                                                                                                                                                                                                                                                                                                                                                                                                                                                                                                                                                                                                                                                                                                                                                                                                                                                                                                                                                                                                                                                                                                                                                                                                                                                                                                                                                                                                                                                                                                                                                                                                                                                                                                                                                                                                                                                                                                                                                                                                                                                                                                                                                                              0.444889\n",
      "That all nation are equally interested in the peace of the world and in the political stability of free people and equally responsible for their maintenance that the essential principle of peace is the actual equality of nation in all matter of right or privilege that peace can not securely or justly rest upon an armed balance of power that government derive all their just power from the consent of the governed and that no other power should be supported by the common thought purpose or power of the family of nation that the sea should be equally free and safe for the use of all people under rule set up by common agreement and consent and that so far a practicable they should be accessible to all upon equal term that national armament shall be limited to the necessity of national order and domestic safety that the community of interest and of power upon which peace must henceforth depend imposes upon each nation the duty of seeing to it that all influence proceeding from it own citizen meant to encourage or assist revolution in other state should be sternly and effectually suppressed and prevented                                                                                                                                                                                                                                                                                                                                                                                                                                                                                                                                                                                                                                                                                                                                                                                                                                                                                                                                                                                                                                                                                                                                                                                                                                                                                                                                                                                                                                                                                                                                                                                                                                                                                                                                                                                                                                                                                                                                                                                                                                                                                                                                                                                                                                                                                                                                                                                                                                                                                                                                                                                                                                                                                                                                                                                                                                                                                                                                                                                                                                                                                                                                                                                                           0.443703\n"
     ]
    },
    {
     "name": "stdout",
     "output_type": "stream",
     "text": [
      "Name: 0, dtype: float64\n",
      "Component 1:\n",
      "sent\n",
      "The whole world is at peace                                                                                                                                                                                                                                                        0.527549\n",
      "And so too is all the world                                                                                                                                                                                                                                                        0.511543\n",
      "We have come to a new realization of our place in the world and a new appraisal of our Nation by the world                                                                                                                                                                         0.495419\n",
      "Let u be proud that by our bold new initiative and by our steadfastness for peace with honor we have made a break through toward creating in the world what the world ha not known before a structure of peace that can last not merely for our time but for generation to come    0.489173\n",
      "Across the world we see them embraced and we rejoice                                                                                                                                                                                                                               0.469383\n",
      "Name: 1, dtype: float64\n",
      "Component 2:\n",
      "sent\n",
      "So it ha been                                                                                                                                     0.880581\n",
      "It ha now been completed                                                                                                                          0.832263\n",
      "The forest ha fallen by the ax of our woodsman the soil ha been made to teem by the tillage of our farmer our commerce ha whitened every ocean    0.740572\n",
      "What ha to be done ha to be done by government and people together or it will not be done at all                                                  0.682040\n",
      "Already something ha been accomplished in this direction                                                                                          0.652375\n",
      "Name: 2, dtype: float64\n",
      "Component 3:\n",
      "sent\n",
      "Our people must give and take                                                            0.792920\n",
      "We are a composite and cosmopolitan people                                               0.792920\n",
      "Government must learn to take le from people so that people an do more for themselves    0.626574\n",
      "I am sure our own people will not misunderstand nor will the world misconstrue           0.555205\n",
      "The largest portion of our people are agriculturist                                      0.527429\n",
      "Name: 3, dtype: float64\n",
      "Component 4:\n",
      "sent\n",
      "For we are a nation of believer                                               0.763179\n",
      "We are creating a nation once again vibrant robust and alive                  0.757561\n",
      "We are a nation of Christians and Muslims Jews and Hindus and non believer    0.751684\n",
      "Will their successor falter and plead organic impotency in the nation         0.681793\n",
      "Our own fortune a a nation are involved whether we would have it so or not    0.642432\n",
      "Name: 4, dtype: float64\n"
     ]
    }
   ],
   "source": [
    "from sklearn.decomposition import TruncatedSVD\n",
    "from sklearn.pipeline import make_pipeline\n",
    "from sklearn.preprocessing import Normalizer\n",
    "\n",
    "#Reduce number of features from 3833 to 300\n",
    "svd = TruncatedSVD(300)\n",
    "\n",
    "lsa_pipe = make_pipeline(svd, Normalizer())\n",
    "\n",
    "# Run SVD on the training data, then project the training data.\n",
    "X_train_lsa = lsa_pipe.fit_transform(X_train_tfidf)\n",
    "X_test_lsa = lsa_pipe.transform(X_test_tfidf)\n",
    "\n",
    "# Examine variance captured in reduced feature space\n",
    "variance_explained = svd.explained_variance_ratio_\n",
    "total_variance = variance_explained.sum()\n",
    "print('Percent variance captured by components:', total_variance*100)\n",
    "\n",
    "sent_by_component = pd.DataFrame(X_train_lsa, index=X_train)\n",
    "\n",
    "for i in range(5):\n",
    "    print('Component {}:'.format(i))\n",
    "    print(sent_by_component.loc[:, i].sort_values(ascending=False)[:5])"
   ]
  },
  {
   "cell_type": "markdown",
   "metadata": {},
   "source": [
    "## Non-negative Matrix Factorization (NMF)"
   ]
  },
  {
   "cell_type": "code",
   "execution_count": 28,
   "metadata": {},
   "outputs": [],
   "source": [
    "#from sklearn.decomposition import NMF\n",
    "\n",
    "#X_train_tfidf = vectorizer.fit_transform(X_train)\n",
    "#X_test_tfidf = vectorizer.transform(X_test)\n",
    "\n",
    "#nmf = NMF(n_components=10, random_state=42, alpha=.1, l1_ratio=.5, init='nndsvd').fit(X_train_tfidf)"
   ]
  },
  {
   "cell_type": "markdown",
   "metadata": {},
   "source": [
    "## Supervised Learning\n",
    "\n",
    "I use Random Forest and Logistic Regression on my sets of created features and compare them in order to determine which model performs better in predicting the president of the inaugural speech to which the sentence belongs to."
   ]
  },
  {
   "cell_type": "code",
   "execution_count": 29,
   "metadata": {},
   "outputs": [],
   "source": [
    "Y_train = df_train['president']\n",
    "Y_test = df_test['president']"
   ]
  },
  {
   "cell_type": "markdown",
   "metadata": {},
   "source": [
    "## Random Forest Classifier"
   ]
  },
  {
   "cell_type": "code",
   "execution_count": 34,
   "metadata": {},
   "outputs": [
    {
     "name": "stdout",
     "output_type": "stream",
     "text": [
      "TF-IDF Features:\n",
      "Train accuracy: 0.13503149821966584\n",
      "Test accuracy: 0.05012325390304026\n"
     ]
    }
   ],
   "source": [
    "#Random Forest Classifier to test TF-IDF features\n",
    "rfc = RandomForestClassifier(n_estimators=100,\n",
    "                             max_depth=3,\n",
    "                             random_state=42,class_weight='balanced') \n",
    "\n",
    "\n",
    "X_train1 = X_train_tfidf\n",
    "X_test1 = X_test_tfidf\n",
    "\n",
    "    \n",
    "rfc.fit(X_train1, Y_train)\n",
    "Y_pred_tf = rfc.fit(X_train1, Y_train).predict(X_test1)\n",
    "        \n",
    "print('TF-IDF Features:')\n",
    "print('Train accuracy:', rfc.score(X_train1, Y_train))\n",
    "print('Test accuracy:', rfc.score(X_test1, Y_test))"
   ]
  },
  {
   "cell_type": "code",
   "execution_count": 35,
   "metadata": {},
   "outputs": [
    {
     "name": "stdout",
     "output_type": "stream",
     "text": [
      "LSA Features:\n",
      "Train accuracy: 0.17639003012873186\n",
      "Test accuracy: 0.06162695152013147\n"
     ]
    }
   ],
   "source": [
    "#Random Forest Classfiefier to test LSA Features\n",
    "rfc = RandomForestClassifier(n_estimators=100,\n",
    "                             max_depth=3,\n",
    "                             random_state=42,class_weight='balanced') \n",
    "\n",
    "X_train2 = X_train_lsa\n",
    "X_test2 = X_test_lsa\n",
    "\n",
    "\n",
    "rfc.fit(X_train2, Y_train)\n",
    "Y_pred_lsa =rfc.fit(X_train2, Y_train).predict(X_test2)\n",
    "\n",
    "print('LSA Features:')\n",
    "print('Train accuracy:', rfc.score(X_train2, Y_train))\n",
    "print('Test accuracy:', rfc.score(X_test2, Y_test))"
   ]
  },
  {
   "cell_type": "code",
   "execution_count": 36,
   "metadata": {},
   "outputs": [
    {
     "data": {
      "image/png": "[encoded data removed]",
      "text/plain": [
       "<Figure size 720x360 with 4 Axes>"
      ]
     },
     "metadata": {},
     "output_type": "display_data"
    }
   ],
   "source": [
    "labels = sorted(Y_test.unique())\n",
    "    \n",
    "# Make tfidf confusion matrix, send to df\n",
    "cm_tf = confusion_matrix(Y_test, Y_pred_tf)\n",
    "df_cm_tf = pd.DataFrame(cm_tf, labels, labels)\n",
    "  \n",
    "# Make lsa confusion matrix, send to df\n",
    "cm_lsa = confusion_matrix(Y_test, Y_pred_lsa)\n",
    "df_cm_lsa = pd.DataFrame(cm_lsa, labels, labels)\n",
    "    \n",
    "\n",
    "fig, (ax1, ax2) = plt.subplots(1, 2, figsize=(10,5))\n",
    "\n",
    "        \n",
    "#confusion matrix heatmaps \n",
    "sns.heatmap(df_cm_tf, ax=ax1)\n",
    "sns.heatmap(df_cm_lsa, ax=ax2)\n",
    "\n",
    "ax1.set_title('TF-IDF Confusion Matrix')\n",
    "ax2.set_title('LSA Confusion Matrix')\n",
    "\n",
    "ax1.set_ylabel('Actual')\n",
    "    \n",
    "ax1.set_xlabel('Predicted')\n",
    "ax2.set_xlabel('Predicted')\n",
    "\n",
    "plt.tight_layout()\n",
    "plt.show()"
   ]
  },
  {
   "cell_type": "code",
   "execution_count": 37,
   "metadata": {},
   "outputs": [
    {
     "data": {
      "text/html": [
       "<div>\n",
       "<style scoped>\n",
       "    .dataframe tbody tr th:only-of-type {\n",
       "        vertical-align: middle;\n",
       "    }\n",
       "\n",
       "    .dataframe tbody tr th {\n",
       "        vertical-align: top;\n",
       "    }\n",
       "\n",
       "    .dataframe thead th {\n",
       "        text-align: right;\n",
       "    }\n",
       "</style>\n",
       "<table border=\"1\" class=\"dataframe\">\n",
       "  <thead>\n",
       "    <tr style=\"text-align: right;\">\n",
       "      <th></th>\n",
       "      <th>word</th>\n",
       "      <th>importance</th>\n",
       "    </tr>\n",
       "  </thead>\n",
       "  <tbody>\n",
       "    <tr>\n",
       "      <th>1579</th>\n",
       "      <td>function</td>\n",
       "      <td>0.019603</td>\n",
       "    </tr>\n",
       "    <tr>\n",
       "      <th>2210</th>\n",
       "      <td>measure</td>\n",
       "      <td>0.018289</td>\n",
       "    </tr>\n",
       "    <tr>\n",
       "      <th>1757</th>\n",
       "      <td>house</td>\n",
       "      <td>0.011988</td>\n",
       "    </tr>\n",
       "    <tr>\n",
       "      <th>1142</th>\n",
       "      <td>earlier</td>\n",
       "      <td>0.011719</td>\n",
       "    </tr>\n",
       "    <tr>\n",
       "      <th>92</th>\n",
       "      <td>adopt</td>\n",
       "      <td>0.010486</td>\n",
       "    </tr>\n",
       "    <tr>\n",
       "      <th>228</th>\n",
       "      <td>appreciation</td>\n",
       "      <td>0.009549</td>\n",
       "    </tr>\n",
       "    <tr>\n",
       "      <th>869</th>\n",
       "      <td>dare</td>\n",
       "      <td>0.009367</td>\n",
       "    </tr>\n",
       "    <tr>\n",
       "      <th>2459</th>\n",
       "      <td>party</td>\n",
       "      <td>0.009294</td>\n",
       "    </tr>\n",
       "    <tr>\n",
       "      <th>251</th>\n",
       "      <td>arising</td>\n",
       "      <td>0.009235</td>\n",
       "    </tr>\n",
       "    <tr>\n",
       "      <th>1199</th>\n",
       "      <td>eminence</td>\n",
       "      <td>0.009233</td>\n",
       "    </tr>\n",
       "  </tbody>\n",
       "</table>\n",
       "</div>"
      ],
      "text/plain": [
       "              word  importance\n",
       "1579      function    0.019603\n",
       "2210       measure    0.018289\n",
       "1757         house    0.011988\n",
       "1142       earlier    0.011719\n",
       "92           adopt    0.010486\n",
       "228   appreciation    0.009549\n",
       "869           dare    0.009367\n",
       "2459         party    0.009294\n",
       "251        arising    0.009235\n",
       "1199      eminence    0.009233"
      ]
     },
     "execution_count": 37,
     "metadata": {},
     "output_type": "execute_result"
    }
   ],
   "source": [
    "feat_importance = rfc.fit(X_train1, Y_train).feature_importances_\n",
    "features = vectorizer.get_feature_names()\n",
    "\n",
    "importance_df = pd.DataFrame({'word': vectorizer.get_feature_names(), 'importance': feat_importance})\n",
    "importance_df.sort_values(by='importance', ascending=False).head(10)"
   ]
  },
  {
   "cell_type": "markdown",
   "metadata": {},
   "source": [
    "As we can see above, the random forest model worked slightly better on the LSA feature set. The model performed poorly for both."
   ]
  },
  {
   "cell_type": "markdown",
   "metadata": {},
   "source": [
    "## Logistic Regression"
   ]
  },
  {
   "cell_type": "code",
   "execution_count": 39,
   "metadata": {},
   "outputs": [
    {
     "name": "stdout",
     "output_type": "stream",
     "text": [
      "TF-IDF Features:\n",
      "Train accuracy: 0.6055875102711585\n",
      "Test accuracy: 0.23089564502875926\n"
     ]
    }
   ],
   "source": [
    "#Logistic Regression model to test TF-IDF features\n",
    "lr = LogisticRegression()\n",
    " \n",
    "X_train1 = X_train_tfidf\n",
    "X_test1 = X_test_tfidf\n",
    "    \n",
    "lr.fit(X_train1, Y_train)\n",
    "Y_pred_tf = lr.fit(X_train1, Y_train).predict(X_test1)\n",
    "        \n",
    "print('TF-IDF Features:')\n",
    "print('Train accuracy:', lr.score(X_train1, Y_train))\n",
    "print('Test accuracy:', lr.score(X_test1, Y_test))"
   ]
  },
  {
   "cell_type": "code",
   "execution_count": 40,
   "metadata": {},
   "outputs": [
    {
     "name": "stdout",
     "output_type": "stream",
     "text": [
      "LSA Features:\n",
      "Train accuracy: 0.44042728019720623\n",
      "Test accuracy: 0.23500410846343467\n"
     ]
    }
   ],
   "source": [
    "#Logistic Regression model to test LSA features\n",
    "lr = LogisticRegression()\n",
    " \n",
    "X_train2 = X_train_lsa\n",
    "X_test2 = X_test_lsa\n",
    "\n",
    "lr.fit(X_train2, Y_train)\n",
    "Y_pred_lsa = lr.fit(X_train2, Y_train).predict(X_test2)\n",
    "\n",
    "print('LSA Features:')\n",
    "print('Train accuracy:', lr.score(X_train2, Y_train))\n",
    "print('Test accuracy:', lr.score(X_test2, Y_test))"
   ]
  },
  {
   "cell_type": "code",
   "execution_count": 17,
   "metadata": {},
   "outputs": [
    {
     "data": {
      "image/png": "[encoded data removed]",
      "text/plain": [
       "<Figure size 720x360 with 4 Axes>"
      ]
     },
     "metadata": {},
     "output_type": "display_data"
    }
   ],
   "source": [
    "labels = sorted(Y_test.unique())\n",
    "    \n",
    "# Make tfidf confusion matrix, send to df\n",
    "cm_tf = confusion_matrix(Y_test, Y_pred_tf)\n",
    "df_cm_tf = pd.DataFrame(cm_tf, labels, labels)\n",
    "  \n",
    "# Make lsa confusion matrix, send to df\n",
    "cm_lsa = confusion_matrix(Y_test, Y_pred_lsa)\n",
    "df_cm_lsa = pd.DataFrame(cm_lsa, labels, labels)\n",
    "    \n",
    "\n",
    "fig, (ax1, ax2) = plt.subplots(1, 2, figsize=(10,5))\n",
    "\n",
    "        \n",
    "#confusion matrix heatmaps \n",
    "sns.heatmap(df_cm_tf, ax=ax1)\n",
    "sns.heatmap(df_cm_lsa, ax=ax2)\n",
    "\n",
    "ax1.set_title('TF-IDF Confusion Matrix')\n",
    "ax2.set_title('LSA Confusion Matrix')\n",
    "\n",
    "ax1.set_ylabel('Actual')\n",
    "    \n",
    "ax1.set_xlabel('Predicted')\n",
    "ax2.set_xlabel('Predicted')\n",
    "\n",
    "plt.tight_layout()\n",
    "plt.show()"
   ]
  },
  {
   "cell_type": "markdown",
   "metadata": {},
   "source": [
    "The logistic regression model worked performed better than the random forest model for both feature sets. It worked best on the TF-IDF feature set."
   ]
  },
  {
   "cell_type": "markdown",
   "metadata": {},
   "source": [
    "## Conslusion\n",
    "\n",
    "Cmparing the two models, we can see that the logistic regression model worked best on both sets of features. I could have done other things such as removing reapated words or breaking down the sentences into smaller peices in order to raise my accuracy scores. \n",
    "\n",
    "When I started this project, I did not fully undertand NLP and how to create a set of features from a corpus, especially using the unsupervised methods. However, after completing this assignment, I learned how to creat features using TF-IDF and LSA in order to reduce dimensionality and to identify key words. Even though the models I used could be improved upon, I know have a better understanding of NLP and text classification."
   ]
  },
  {
   "cell_type": "code",
   "execution_count": null,
   "metadata": {},
   "outputs": [],
   "source": []
  }
 ],
 "metadata": {
  "kernelspec": {
   "display_name": "Python 3",
   "language": "python",
   "name": "python3"
  },
  "language_info": {
   "codemirror_mode": {
    "name": "ipython",
    "version": 3
   },
   "file_extension": ".py",
   "mimetype": "text/x-python",
   "name": "python",
   "nbconvert_exporter": "python",
   "pygments_lexer": "ipython3",
   "version": "3.7.0"
  }
 },
 "nbformat": 4,
 "nbformat_minor": 2
}
